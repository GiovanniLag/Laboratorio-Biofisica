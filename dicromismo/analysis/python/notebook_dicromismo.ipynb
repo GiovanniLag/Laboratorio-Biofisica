{
 "cells": [
  {
   "cell_type": "code",
   "execution_count": 13,
   "metadata": {},
   "outputs": [],
   "source": [
    "import numpy as np\n",
    "import pandas as pd\n",
    "from matplotlib import pyplot as plt"
   ]
  },
  {
   "cell_type": "code",
   "execution_count": 14,
   "metadata": {},
   "outputs": [
    {
     "name": "stdout",
     "output_type": "stream",
     "text": [
      "C_protein_stock: 132.65181818181821\n"
     ]
    }
   ],
   "source": [
    "# Calculate C_protein_stock\n",
    "V_s = 203 # uL\n",
    "V_d = 2510.4 # uL\n",
    "l = 1 # cm\n",
    "A = 0.2518-0.06301 # Absorbance\n",
    "epsilon = 17600 # M^-1 cm^-1\n",
    "C_protein_stock = (A * V_d) / (epsilon * l * V_s)\n",
    "# convert to uM\n",
    "C_protein_stock = C_protein_stock * 1e6\n",
    "print('C_protein_stock:', C_protein_stock)"
   ]
  },
  {
   "cell_type": "code",
   "execution_count": 15,
   "metadata": {},
   "outputs": [
    {
     "name": "stdout",
     "output_type": "stream",
     "text": [
      "Add 45.4545 uL of protein stock to 1454.55 uL of buffer (H20) to make 1500 uL of 4 uM protein solution.\n",
      "Add 0.045455 g of protein to 1454.5455 uL of buffer to make 1500 uL of 4 uM protein solution.\n"
     ]
    }
   ],
   "source": [
    "# Dilution calculation for GuHCl denaturation\n",
    "C_protein_stock = 132 # uM -> stock concentration\n",
    "C_protein_dil = 4 # uM -> target concentration\n",
    "V_protein_dil = 1500 # uL -> target volume\n",
    "\n",
    "V_protein_stock = (C_protein_dil * V_protein_dil) / C_protein_stock\n",
    "V_buffer = V_protein_dil - V_protein_stock\n",
    "\n",
    "print(f\"Add {V_protein_stock:.4f} uL of protein stock to {V_buffer:.2f} uL of buffer (H20) to make {V_protein_dil} uL of {C_protein_dil} uM protein solution.\")\n",
    "\n",
    "# Calculate mass of protein solution to add (neglectiong protein mass)\n",
    "V_protein_liter = V_protein_stock * 1e-6 # L\n",
    "protein_mass = V_protein_liter * 1000 # g\n",
    "print(f\"Add {protein_mass:.6f} g of protein to {V_buffer:.4f} uL of buffer to make {V_protein_dil} uL of {C_protein_dil} uM protein solution.\")"
   ]
  },
  {
   "cell_type": "code",
   "execution_count": 16,
   "metadata": {},
   "outputs": [
    {
     "name": "stdout",
     "output_type": "stream",
     "text": [
      "[0.22125, 0.4425, 0.6637500000000001, 0.885, 1.10625, 0.553125]\n"
     ]
    },
    {
     "data": {
      "text/html": [
       "<div>\n",
       "<style scoped>\n",
       "    .dataframe tbody tr th:only-of-type {\n",
       "        vertical-align: middle;\n",
       "    }\n",
       "\n",
       "    .dataframe tbody tr th {\n",
       "        vertical-align: top;\n",
       "    }\n",
       "\n",
       "    .dataframe thead th {\n",
       "        text-align: right;\n",
       "    }\n",
       "</style>\n",
       "<table border=\"1\" class=\"dataframe\">\n",
       "  <thead>\n",
       "    <tr style=\"text-align: right;\">\n",
       "      <th></th>\n",
       "      <th>GuHCl target (M)</th>\n",
       "      <th>Volume GuHCl to add (uL)</th>\n",
       "      <th>Mass GuHCl to add (mg)</th>\n",
       "      <th>Volume tampon to add (uL)</th>\n",
       "      <th>Mass tampon to add (mg)</th>\n",
       "      <th>Volume protein to add (uL)</th>\n",
       "      <th>Mass protein to add (mg)</th>\n",
       "    </tr>\n",
       "  </thead>\n",
       "  <tbody>\n",
       "    <tr>\n",
       "      <th>0</th>\n",
       "      <td>1.0</td>\n",
       "      <td>187.50</td>\n",
       "      <td>221.250</td>\n",
       "      <td>1267.045455</td>\n",
       "      <td>1267.045455</td>\n",
       "      <td>45.454545</td>\n",
       "      <td>45.454545</td>\n",
       "    </tr>\n",
       "    <tr>\n",
       "      <th>1</th>\n",
       "      <td>2.0</td>\n",
       "      <td>375.00</td>\n",
       "      <td>442.500</td>\n",
       "      <td>1079.545455</td>\n",
       "      <td>1079.545455</td>\n",
       "      <td>45.454545</td>\n",
       "      <td>45.454545</td>\n",
       "    </tr>\n",
       "    <tr>\n",
       "      <th>2</th>\n",
       "      <td>3.0</td>\n",
       "      <td>562.50</td>\n",
       "      <td>663.750</td>\n",
       "      <td>892.045455</td>\n",
       "      <td>892.045455</td>\n",
       "      <td>45.454545</td>\n",
       "      <td>45.454545</td>\n",
       "    </tr>\n",
       "    <tr>\n",
       "      <th>3</th>\n",
       "      <td>4.0</td>\n",
       "      <td>750.00</td>\n",
       "      <td>885.000</td>\n",
       "      <td>704.545455</td>\n",
       "      <td>704.545455</td>\n",
       "      <td>45.454545</td>\n",
       "      <td>45.454545</td>\n",
       "    </tr>\n",
       "    <tr>\n",
       "      <th>4</th>\n",
       "      <td>5.0</td>\n",
       "      <td>937.50</td>\n",
       "      <td>1106.250</td>\n",
       "      <td>517.045455</td>\n",
       "      <td>517.045455</td>\n",
       "      <td>45.454545</td>\n",
       "      <td>45.454545</td>\n",
       "    </tr>\n",
       "    <tr>\n",
       "      <th>5</th>\n",
       "      <td>2.5</td>\n",
       "      <td>468.75</td>\n",
       "      <td>553.125</td>\n",
       "      <td>985.795455</td>\n",
       "      <td>985.795455</td>\n",
       "      <td>45.454545</td>\n",
       "      <td>45.454545</td>\n",
       "    </tr>\n",
       "  </tbody>\n",
       "</table>\n",
       "</div>"
      ],
      "text/plain": [
       "   GuHCl target (M)  Volume GuHCl to add (uL)  Mass GuHCl to add (mg)  \\\n",
       "0               1.0                    187.50                 221.250   \n",
       "1               2.0                    375.00                 442.500   \n",
       "2               3.0                    562.50                 663.750   \n",
       "3               4.0                    750.00                 885.000   \n",
       "4               5.0                    937.50                1106.250   \n",
       "5               2.5                    468.75                 553.125   \n",
       "\n",
       "   Volume tampon to add (uL)  Mass tampon to add (mg)  \\\n",
       "0                1267.045455              1267.045455   \n",
       "1                1079.545455              1079.545455   \n",
       "2                 892.045455               892.045455   \n",
       "3                 704.545455               704.545455   \n",
       "4                 517.045455               517.045455   \n",
       "5                 985.795455               985.795455   \n",
       "\n",
       "   Volume protein to add (uL)  Mass protein to add (mg)  \n",
       "0                   45.454545                 45.454545  \n",
       "1                   45.454545                 45.454545  \n",
       "2                   45.454545                 45.454545  \n",
       "3                   45.454545                 45.454545  \n",
       "4                   45.454545                 45.454545  \n",
       "5                   45.454545                 45.454545  "
      ]
     },
     "execution_count": 16,
     "metadata": {},
     "output_type": "execute_result"
    }
   ],
   "source": [
    "# GuHCl dilution series\n",
    "GuHCl_stock = 8.0 # M\n",
    "GuHCl_targets = [1, 2, 3, 4, 5, 2.5] # M\n",
    "GuHCl_density = 1.18e3 # g/L\n",
    "\n",
    "V_target = 0.0015 # L\n",
    "V_stocks = [(V_target * target) / GuHCl_stock for target in GuHCl_targets] #L\n",
    "\n",
    "# Calculate mass of GuHCl to add\n",
    "m_stocks = [V * GuHCl_density for V in V_stocks] # g\n",
    "print(m_stocks)\n",
    "\n",
    "# Calculate mass of tampon to add\n",
    "V_tampon = [V_target - V_protein_liter - V for V in V_stocks] # L\n",
    "m_tampon = [V * 1.0 for V in V_tampon]\n",
    "\n",
    "# Convert to good units (mg, uL)\n",
    "V_stocks = [V * 1e6 for V in V_stocks] # uL\n",
    "m_stocks = [m * 1e3 for m in m_stocks] # mg\n",
    "V_tampon = [V * 1e6 for V in V_tampon] # uL\n",
    "m_tampon = [m * 1e6 for m in m_tampon] # mg\n",
    "\n",
    "# Make a table\n",
    "df = pd.DataFrame({'GuHCl target (M)': GuHCl_targets, 'Volume GuHCl to add (uL)': V_stocks, \n",
    "                   'Mass GuHCl to add (mg)': m_stocks, 'Volume tampon to add (uL)': V_tampon, 'Mass tampon to add (mg)': m_tampon,\n",
    "                     'Volume protein to add (uL)': [V_protein_stock]*len(GuHCl_targets), 'Mass protein to add (mg)': [protein_mass*1e3]*len(GuHCl_targets)})\n",
    "df.head(6)"
   ]
  }
 ],
 "metadata": {
  "kernelspec": {
   "display_name": "base",
   "language": "python",
   "name": "python3"
  },
  "language_info": {
   "codemirror_mode": {
    "name": "ipython",
    "version": 3
   },
   "file_extension": ".py",
   "mimetype": "text/x-python",
   "name": "python",
   "nbconvert_exporter": "python",
   "pygments_lexer": "ipython3",
   "version": "3.8.18"
  }
 },
 "nbformat": 4,
 "nbformat_minor": 2
}
